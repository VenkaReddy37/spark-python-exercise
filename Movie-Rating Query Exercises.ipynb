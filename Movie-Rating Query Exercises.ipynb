{
 "cells": [
  {
   "cell_type": "code",
   "execution_count": 1,
   "metadata": {
    "collapsed": true
   },
   "outputs": [],
   "source": [
    "from pyspark.sql import SQLContext\n",
    "sqlContext = SQLContext(sc)"
   ]
  },
  {
   "cell_type": "code",
   "execution_count": 2,
   "metadata": {},
   "outputs": [
    {
     "name": "stdout",
     "output_type": "stream",
     "text": [
      "101,Gone with the Wind,1939,Victor Fleming\n",
      "102,Star Wars,1977,George Lucas\n",
      "201,101,2,2011-01-22\n",
      "201,101,4,2011-01-27\n",
      "201,Sarah Martinez\n",
      "202,Daniel Lewis\n"
     ]
    }
   ],
   "source": [
    "# Creating RDD's\n",
    "\n",
    "movieRDD = sc.textFile(\"/Users/pravinkumar/Documents/Spark/testData/Movie-Rating\\ Query\\ Exercises/Movie.txt\")\n",
    "ratingRDD = sc.textFile(\"/Users/pravinkumar/Documents/Spark/testData/Movie-Rating\\ Query\\ Exercises/Rating.txt\")\n",
    "reviewerRDD = sc.textFile(\"/Users/pravinkumar/Documents/Spark/testData/Movie-Rating\\ Query\\ Exercises/Reviewer.txt\")\n",
    "\n",
    "for i in movieRDD.take(2): print(i)\n",
    "for i in ratingRDD.take(2): print(i)\n",
    "for i in reviewerRDD.take(2): print(i)"
   ]
  },
  {
   "cell_type": "code",
   "execution_count": 3,
   "metadata": {},
   "outputs": [
    {
     "name": "stdout",
     "output_type": "stream",
     "text": [
      "+--------------+---+------------------+----+\n",
      "|      director|mID|             title|year|\n",
      "+--------------+---+------------------+----+\n",
      "|Victor Fleming|101|Gone with the Wind|1939|\n",
      "|  George Lucas|102|         Star Wars|1977|\n",
      "+--------------+---+------------------+----+\n",
      "\n",
      "+---+---+----------+-----+\n",
      "|mID|rID|ratingDate|stars|\n",
      "+---+---+----------+-----+\n",
      "|101|201|2011-01-22|    2|\n",
      "|101|201|2011-01-27|    4|\n",
      "+---+---+----------+-----+\n",
      "\n",
      "+--------------+---+\n",
      "|          name|rID|\n",
      "+--------------+---+\n",
      "|Sarah Martinez|201|\n",
      "|  Daniel Lewis|202|\n",
      "+--------------+---+\n",
      "\n"
     ]
    }
   ],
   "source": [
    "# Creating DF's\n",
    "from pyspark.sql import Row\n",
    "movieDF = movieRDD.map(lambda rec: rec.split(\",\")).map(lambda rec: Row(mID = rec[0], title = rec[1], year = rec[2], \\\n",
    "                                                                       director = rec[3])).toDF()\n",
    "reviewerDF = reviewerRDD.map(lambda rec: rec.split(\",\")).map(lambda rec: Row(rID = rec[0], name = rec[1])).toDF()\n",
    "ratingDF = ratingRDD.map(lambda rec: rec.split(\",\")).map(lambda rec: Row(rID = rec[0], mID = rec[1], stars = rec[2], ratingDate = rec[3])).toDF()\n",
    "\n",
    "movieDF.registerTempTable(\"movie\")\n",
    "reviewerDF.registerTempTable(\"reviewer\")\n",
    "ratingDF.registerTempTable(\"rating\")\n",
    "\n",
    "movieDF.limit(2).show()\n",
    "ratingDF.limit(2).show()\n",
    "reviewerDF.limit(2).show()"
   ]
  },
  {
   "cell_type": "code",
   "execution_count": 6,
   "metadata": {
    "collapsed": true
   },
   "outputs": [],
   "source": [
    "# Exercise @ https://lagunita.stanford.edu/courses/DB/SQL/SelfPaced/courseware/ch-sql/seq-exercise-sql_movie_query_core/\n",
    "\n",
    "# Here's the schema: \n",
    "\n",
    "# Movie ( mID, title, year, director ) \n",
    "# English: There is a movie with ID number mID, a title, a release year, and a director. \n",
    "\n",
    "# Reviewer ( rID, name ) \n",
    "# English: The reviewer with ID number rID has a certain name. \n",
    "\n",
    "# Rating ( rID, mID, stars, ratingDate ) \n",
    "# English: The reviewer rID gave the movie mID a number of stars rating (1-5) on a certain ratingDate. "
   ]
  },
  {
   "cell_type": "code",
   "execution_count": 4,
   "metadata": {},
   "outputs": [
    {
     "name": "stdout",
     "output_type": "stream",
     "text": [
      "E.T.\n",
      "Raiders of the Lost Ark\n",
      "+--------------------+\n",
      "|               title|\n",
      "+--------------------+\n",
      "|                E.T.|\n",
      "|Raiders of the Lo...|\n",
      "+--------------------+\n",
      "\n"
     ]
    }
   ],
   "source": [
    "# Query 01 - Find the titles of all movies directed by Steven Spielberg.\n",
    "\n",
    "Query01RDD = movieRDD.map(lambda rec: rec.split(\",\")).filter(lambda rec: rec[3] == \"Steven Spielberg\").\\\n",
    "map(lambda rec: rec[1])\n",
    "for i in Query01RDD.collect(): print(i)\n",
    "    \n",
    "sqlContext.sql(\"select m.title from movie m where m.director = 'Steven Spielberg'\").show()"
   ]
  },
  {
   "cell_type": "code",
   "execution_count": 5,
   "metadata": {},
   "outputs": [
    {
     "name": "stdout",
     "output_type": "stream",
     "text": [
      "1939\n",
      "1937\n",
      "1981\n",
      "2009\n",
      "+----+\n",
      "|year|\n",
      "+----+\n",
      "|1981|\n",
      "|2009|\n",
      "|1939|\n",
      "|1937|\n",
      "+----+\n",
      "\n"
     ]
    }
   ],
   "source": [
    "# Query 02 - Find all years that have a movie that received a rating of 4 or 5, and sort them in increasing order.\n",
    "\n",
    "\n",
    "# Trimming down the rating RDD according to the Query\n",
    "ratingTrim = ratingRDD.map(lambda rec: rec.split(\",\")).filter(lambda rec: rec[2] == '4' or rec[2] == '5').\\\n",
    "map(lambda rec: (rec[1], rec[2]))\n",
    "movieTrim = movieRDD.map(lambda rec: rec.split(\",\")).map(lambda rec: (rec[0], rec[2]))\n",
    "\n",
    "Query02RDD = ratingTrim.join(movieTrim).map(lambda rec: rec[1][1]).distinct(numPartitions = 1)\n",
    "for i in Query02RDD.collect(): print(i)\n",
    "\n",
    "sqlContext.sql(\"select distinct m.year from movie m, rating r where m.mID = r.mID and r.stars in ('4', '5')\").show()"
   ]
  },
  {
   "cell_type": "code",
   "execution_count": 6,
   "metadata": {},
   "outputs": [
    {
     "name": "stdout",
     "output_type": "stream",
     "text": [
      "Star Wars\n",
      "Titanic\n",
      "+---------+\n",
      "|    title|\n",
      "+---------+\n",
      "|Star Wars|\n",
      "|  Titanic|\n",
      "+---------+\n",
      "\n"
     ]
    }
   ],
   "source": [
    "# Query 03 - Find the titles of all movies that have no ratings. \n",
    "\n",
    "movieTrim = movieRDD.map(lambda rec: rec.split(\",\")).map(lambda rec: (rec[0], rec[1]))\n",
    "ratingTrim = ratingRDD.map(lambda rec: rec.split(\",\")).map(lambda rec: (rec[1], rec[2]))\n",
    "Query03RDD = movieTrim.subtractByKey(ratingTrim).map(lambda rec: rec[1])\n",
    "\n",
    "for i in Query03RDD.collect(): print(i)\n",
    "    \n",
    "sqlContext.sql(\"select distinct m.title from movie m where m.mID not in (select r.mID from rating r)\").show()"
   ]
  },
  {
   "cell_type": "code",
   "execution_count": 7,
   "metadata": {},
   "outputs": [
    {
     "name": "stdout",
     "output_type": "stream",
     "text": [
      "Daniel Lewis\n",
      "Chris Jackson\n",
      "+-------------+\n",
      "|         name|\n",
      "+-------------+\n",
      "|Chris Jackson|\n",
      "| Daniel Lewis|\n",
      "+-------------+\n",
      "\n"
     ]
    }
   ],
   "source": [
    "# Query 04 - Some reviewers didn't provide a date with their rating. \n",
    "# Find the names of all reviewers who have ratings with a NULL value for the date. \n",
    "\n",
    "ratingTrim = ratingRDD.map(lambda rec: rec.split(\",\")).filter(lambda rec: rec[3] == 'null').\\\n",
    "map(lambda rec: (rec[0], rec[3]))\n",
    "#for i in ratingTrim.collect(): print(i)\n",
    "reviewerTrim = reviewerRDD.map(lambda rec: rec.split(\",\")).map(lambda rec: (rec[0], rec[1]))\n",
    "#for i in reviewerTrim.collect(): print(i)\n",
    "\n",
    "Query04RDD = ratingTrim.join(reviewerTrim).map(lambda rec: rec[1][1])\n",
    "for i in Query04RDD.collect(): print(i)\n",
    "    \n",
    "sqlContext.sql(\"select e.name from reviewer e where e.rID in (select r.rID from rating r where r.ratingDate == 'null')\").\\\n",
    "show()"
   ]
  },
  {
   "cell_type": "code",
   "execution_count": 8,
   "metadata": {},
   "outputs": [
    {
     "name": "stdout",
     "output_type": "stream",
     "text": [
      "['Ashley White', 'E.T.', '3', '2011-01-02']\n",
      "['Brittany Harris', 'Raiders of the Lost Ark', '2', '2011-01-30']\n",
      "['Brittany Harris', 'Raiders of the Lost Ark', '4', '2011-01-12']\n",
      "['Brittany Harris', 'The Sound of Music', '2', '2011-01-20']\n",
      "['Chris Jackson', 'E.T.', '2', '2011-01-22']\n",
      "['Chris Jackson', 'Raiders of the Lost Ark', '4', 'null']\n",
      "['Chris Jackson', 'The Sound of Music', '3', '2011-01-27']\n",
      "['Daniel Lewis', 'Snow White', '4', 'null']\n",
      "['Elizabeth Thomas', 'Avatar', '3', '2011-01-15']\n",
      "['Elizabeth Thomas', 'Snow White', '5', '2011-01-19']\n",
      "['James Cameron', 'Avatar', '5', '2011-01-20']\n",
      "['Mike Anderson', 'Gone with the Wind', '3', '2011-01-09']\n",
      "['Sarah Martinez', 'Gone with the Wind', '2', '2011-01-22']\n",
      "['Sarah Martinez', 'Gone with the Wind', '4', '2011-01-27']\n",
      "+----------------+--------------------+-----+----------+\n",
      "|            name|               title|stars|ratingDate|\n",
      "+----------------+--------------------+-----+----------+\n",
      "|    Ashley White|                E.T.|    3|2011-01-02|\n",
      "| Brittany Harris|Raiders of the Lo...|    2|2011-01-30|\n",
      "| Brittany Harris|Raiders of the Lo...|    4|2011-01-12|\n",
      "| Brittany Harris|  The Sound of Music|    2|2011-01-20|\n",
      "|   Chris Jackson|                E.T.|    2|2011-01-22|\n",
      "|   Chris Jackson|Raiders of the Lo...|    4|      null|\n",
      "|   Chris Jackson|  The Sound of Music|    3|2011-01-27|\n",
      "|    Daniel Lewis|          Snow White|    4|      null|\n",
      "|Elizabeth Thomas|              Avatar|    3|2011-01-15|\n",
      "|Elizabeth Thomas|          Snow White|    5|2011-01-19|\n",
      "|   James Cameron|              Avatar|    5|2011-01-20|\n",
      "|   Mike Anderson|  Gone with the Wind|    3|2011-01-09|\n",
      "|  Sarah Martinez|  Gone with the Wind|    2|2011-01-22|\n",
      "|  Sarah Martinez|  Gone with the Wind|    4|2011-01-27|\n",
      "+----------------+--------------------+-----+----------+\n",
      "\n"
     ]
    }
   ],
   "source": [
    "# Query 05 - Write a query to return the ratings data in a more readable format: \n",
    "# reviewer name, movie title, stars, and ratingDate. Also, sort the data, \n",
    "# first by reviewer name, then by movie title, and lastly by number of stars. \n",
    "\n",
    "movieTrim  = movieRDD.map(lambda rec: rec.split(\",\")).map(lambda rec: (rec[0], rec[1]))\n",
    "reviewerTrim = reviewerRDD.map(lambda rec: rec.split(\",\")).map(lambda rec: (rec[0], rec[1]))\n",
    "ratingTrim = ratingRDD.map(lambda rec: rec.split(\",\")).map(lambda rec: (rec[0],(rec[1], rec[2], rec[3])))\n",
    "ratingJoinReviewer = reviewerTrim.join(ratingTrim).map(lambda rec: (rec[1][1][0], (rec[1][0], rec[1][1][1], rec[1][1][2])))\n",
    "movieJoinrating = movieTrim.join(ratingJoinReviewer).map(lambda rec: ((rec[1][1][0], rec[1][0], rec[1][1][1]), rec[1][1][2]))\n",
    "\n",
    "Query05RDD = movieJoinrating.sortBy(lambda rec: rec[0], ascending = True).\\\n",
    "sortByKey(ascending = True).map(lambda rec: [rec[0][0], rec[0][1], rec[0][2], rec[1]])\n",
    "for i in Query05RDD.collect(): print(i)\n",
    "\n",
    "    \n",
    "sqlContext.sql(\"select e.name, m.title, r.stars, r.ratingDate from movie m, reviewer e, rating r where \\\n",
    "e.rID = r.rID and r.mID = m.mID order by e.name, m.title, r.stars asc\").show()"
   ]
  },
  {
   "cell_type": "code",
   "execution_count": 9,
   "metadata": {},
   "outputs": [],
   "source": [
    "# Query 06 - For all cases where the same reviewer rated the same movie twice and gave it a higher \n",
    "# rating the second time, return the reviewer's name and the title of the movie.\n",
    "\n",
    "# Broadcasting datas\n",
    "movieTrim = movieRDD.map(lambda rec: rec.split(\",\")).map(lambda rec: (rec[0], rec[1]))\n",
    "movieBC = sc.broadcast(movieTrim.collectAsMap())\n",
    "ratingTrim = ratingRDD.map(lambda rec: rec.split(\",\")).map(lambda rec: (rec[0], (rec[1], rec[2]))).groupByKey()\n",
    "ratingBC = sc.broadcast(ratingTrim.collectAsMap())\n",
    "reviewerTrim = reviewerRDD.map(lambda rec: rec.split(\",\")).map(lambda rec: (rec[0], rec[1]))\n",
    "reviewerBC = sc.broadcast(reviewerTrim.collectAsMap())\n",
    "\n",
    "# Quering Data\n",
    "def checkMovie(rec):\n",
    "    movieNStar = ratingBC.value.get(rec, None)\n",
    "    movieMap = map()\n",
    "    movieMap['0'] = '0'\n",
    "    for i in movieNStar:\n",
    "        if movieNStar == None:\n",
    "            break\n",
    "        movie, star = movieNStar\n",
    "        if int(movieMap[movie]) < int(star):\n",
    "            return [reviewerBC.value.get(rec, None), movieBC.value.get(movie, None)]\n",
    "        movieMap[movie] = star\n",
    "        \n",
    "        \n",
    "\n",
    "\n",
    "Query06RDD = ratingTrim.map(lambda rec: checkMovie(rec[0]))\n",
    "for i in Query06RDD.collect(): print(i)\n",
    "\n",
    "\n",
    "#sqlContext.sql(\"select e.name, m.title from rating r, reviewer e, movie m where \")"
   ]
  },
  {
   "cell_type": "code",
   "execution_count": null,
   "metadata": {
    "collapsed": true
   },
   "outputs": [],
   "source": [
    "# Query 07 - For each movie that has at least one rating, find the highest number of stars that movie received. \n",
    "# Return the movie title and number of stars. Sort by movie title."
   ]
  },
  {
   "cell_type": "code",
   "execution_count": null,
   "metadata": {
    "collapsed": true
   },
   "outputs": [],
   "source": [
    "# Query 08 - For each movie, return the title and the 'rating spread', that is, \n",
    "# the difference between highest and lowest ratings given to that movie. \n",
    "# Sort by rating spread from highest to lowest, then by movie title. "
   ]
  },
  {
   "cell_type": "code",
   "execution_count": null,
   "metadata": {
    "collapsed": true
   },
   "outputs": [],
   "source": [
    "# Query 09 - Find the difference between the average rating of movies released before 1980 \n",
    "# and the average rating of movies released after 1980. (Make sure to calculate the average rating \n",
    "# for each movie, then the average of those averages for movies before 1980 and movies after. \n",
    "# Don't just calculate the overall average rating before and after 1980.) "
   ]
  },
  {
   "cell_type": "code",
   "execution_count": null,
   "metadata": {
    "collapsed": true
   },
   "outputs": [],
   "source": [
    "# Query 10 - "
   ]
  },
  {
   "cell_type": "code",
   "execution_count": null,
   "metadata": {
    "collapsed": true
   },
   "outputs": [],
   "source": [
    "# Query 11 - "
   ]
  }
 ],
 "metadata": {
  "kernelspec": {
   "display_name": "Python 3",
   "language": "python",
   "name": "python3"
  },
  "language_info": {
   "codemirror_mode": {
    "name": "ipython",
    "version": 3
   },
   "file_extension": ".py",
   "mimetype": "text/x-python",
   "name": "python",
   "nbconvert_exporter": "python",
   "pygments_lexer": "ipython3",
   "version": "3.5.3"
  }
 },
 "nbformat": 4,
 "nbformat_minor": 2
}
