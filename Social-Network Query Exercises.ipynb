{
 "cells": [
  {
   "cell_type": "code",
   "execution_count": 1,
   "metadata": {
    "collapsed": true
   },
   "outputs": [],
   "source": [
    "# sc is an existing SparkContext.\n",
    "from pyspark.sql import SQLContext, Row\n",
    "sqlContext = SQLContext(sc)"
   ]
  },
  {
   "cell_type": "code",
   "execution_count": 2,
   "metadata": {},
   "outputs": [
    {
     "name": "stdout",
     "output_type": "stream",
     "text": [
      "+----+----+\n",
      "| ID1| ID2|\n",
      "+----+----+\n",
      "|1689|1709|\n",
      "|1709|1689|\n",
      "+----+----+\n",
      "\n",
      "+----+-----+-------+\n",
      "|  ID|grade|   name|\n",
      "+----+-----+-------+\n",
      "|1510|    9| Jordan|\n",
      "|1689|    9|Gabriel|\n",
      "+----+-----+-------+\n",
      "\n",
      "+----+----+\n",
      "| ID1| ID2|\n",
      "+----+----+\n",
      "|1510|1381|\n",
      "|1510|1689|\n",
      "+----+----+\n",
      "\n"
     ]
    }
   ],
   "source": [
    "# Loding data \n",
    "\n",
    "likesRDD = sc.textFile(\"/Users/pravinkumar/Documents/Spark/testData/Social-Network\\ Query\\ Exercises/Likes\")\n",
    "highSchoolerRDD = sc.textFile(\"/Users/pravinkumar/Documents/Spark/testData/Social-Network\\ Query\\ Exercises/Highschooler\")\n",
    "friendRDD = sc.textFile(\"/Users/pravinkumar/Documents/Spark/testData/Social-Network\\ Query\\ Exercises/Friend\")\n",
    "\n",
    "# Converting RDD to DF\n",
    "likesDF = likesRDD.map(lambda rec: rec.split(\"\\t\")).map(lambda rec: Row(ID1 = rec[0], ID2 = rec[1])).toDF()\n",
    "likesDF.limit(2).show()\n",
    "highSchoolerDF = highSchoolerRDD.map(lambda rec: rec.split(\"\\t\")).map(lambda rec: Row(ID = rec[0], name = rec[1], grade = rec[2])).toDF()\n",
    "highSchoolerDF.limit(2).show()\n",
    "friendDF = friendRDD.map(lambda rec: rec.split(\"\\t\")).map(lambda rec: Row(ID1 = rec[0], ID2 = rec[1])).toDF()\n",
    "friendDF.limit(2).show()\n",
    "\n",
    "# Registering DF as Temp Table so we can SQL query on them\n",
    "likesDF.registerTempTable(\"likes\")\n",
    "highSchoolerDF.registerTempTable(\"highschooler\")\n",
    "friendDF.registerTempTable(\"friend\")\n"
   ]
  },
  {
   "cell_type": "code",
   "execution_count": 3,
   "metadata": {},
   "outputs": [
    {
     "name": "stdout",
     "output_type": "stream",
     "text": [
      "Jordan\n",
      "Cassandra\n",
      "Andrew\n",
      "Alexis\n",
      "Jessica\n",
      "+---------+\n",
      "|     name|\n",
      "+---------+\n",
      "|   Jordan|\n",
      "|  Jessica|\n",
      "|   Andrew|\n",
      "|   Alexis|\n",
      "|Cassandra|\n",
      "+---------+\n",
      "\n"
     ]
    }
   ],
   "source": [
    "# Query 01\n",
    "# Find the names of all students who are friends with someone named Gabriel. \n",
    "\n",
    "highSchoolerTrim = highSchoolerRDD.map(lambda rec: rec.split(\"\\t\")).map(lambda rec: (rec[0], rec[1]))\n",
    "highSchoolerTrimSwap = highSchoolerRDD.map(lambda rec: rec.split(\"\\t\")).map(lambda rec: (rec[1], rec[0]))\n",
    "friendTrim = friendRDD.map(lambda rec: rec.split(\"\\t\")).map(lambda rec: (rec[0], rec[1]))\n",
    "\n",
    "GabrielList = highSchoolerTrimSwap.lookup('Gabriel')\n",
    "friendGabrielTrim = friendTrim.filter(lambda rec: rec[0] in GabrielList or rec[1] in GabrielList)\n",
    "friendsList = friendGabrielTrim.map(lambda rec: rec[1] if rec[0] in GabrielList else rec[0]).toLocalIterator()\n",
    "friendsList = list(friendsList)\n",
    "Query01 = highSchoolerTrim.filter(lambda rec: rec[0] in friendsList).map(lambda rec: rec[1])\n",
    "\n",
    "for i in Query01.collect(): print(i)\n",
    "\n",
    "\n",
    "sqlContext.sql(\"select h.name from highschooler h where h.ID in (select f.ID2 from friend f, highschooler h where \\\n",
    "h.ID = f.ID1 and h.name = 'Gabriel') and h.ID in (select f.ID1 from friend f, highschooler h where \\\n",
    "h.ID = f.ID2 and h.name = 'Gabriel')\").show()"
   ]
  },
  {
   "cell_type": "code",
   "execution_count": 4,
   "metadata": {},
   "outputs": [
    {
     "name": "stdout",
     "output_type": "stream",
     "text": [
      "('John', '12', 'Haley', '10')\n",
      "+----+-----+-----+-----+\n",
      "|name|grade| name|grade|\n",
      "+----+-----+-----+-----+\n",
      "|John|   12|Haley|   10|\n",
      "+----+-----+-----+-----+\n",
      "\n"
     ]
    }
   ],
   "source": [
    "# Query 02\n",
    "# For every student who likes someone 2 or more grades younger than themselves, \n",
    "# return that student's name and grade, and the name and grade of the student they like.\n",
    "\n",
    "highSchoolerTrim = highSchoolerRDD.map(lambda rec: rec.split(\"\\t\")).map(lambda rec: (rec[0], (rec[1], rec[2])))\n",
    "likesTrim = likesRDD.map(lambda rec: rec.split(\"\\t\")).map(lambda rec: (rec[0], rec[1]))\n",
    "\n",
    "# Broadcasting the likesRDD \n",
    "likesBC = sc.broadcast(likesTrim.collectAsMap())\n",
    "# Broadcasting the highSchoolerTrim RDD \n",
    "highSchoolerTrimBC = sc.broadcast(highSchoolerTrim.collectAsMap())\n",
    "\n",
    "def getSomeone(rec):\n",
    "    othersName, othersGrade = highSchoolerTrimBC.value.get(likesBC.value.get(rec[0], -1), (None, None))\n",
    "    if othersGrade != None:\n",
    "        if int(rec[1][1]) == int(othersGrade) + 2 :\n",
    "            return (rec[1][0], rec[1][1], othersName, othersGrade)\n",
    "    \n",
    "\n",
    "Query02 = highSchoolerTrim.map(lambda rec: getSomeone(rec)).filter(lambda rec: rec != None)\n",
    "\n",
    "for i in Query02.collect(): print(i)\n",
    "\n",
    "                                                          \n",
    "\n",
    "sqlContext.sql(\"select h1.name, h1.grade, h2.name, h2.grade from highschooler h1, highschooler h2 where h2.ID in \\\n",
    "(select l.ID2 from likes l where h1.ID = l.ID1) and int(h1.grade) >= int(h2.grade) + 2\").show()"
   ]
  },
  {
   "cell_type": "code",
   "execution_count": 5,
   "metadata": {},
   "outputs": [
    {
     "name": "stdout",
     "output_type": "stream",
     "text": [
      "(('Gabriel', '9'), ('Cassandra', '9'))\n",
      "(('Cassandra', '9'), ('Gabriel', '9'))\n",
      "(('Jessica', '11'), ('Kyle', '12'))\n",
      "(('Kyle', '12'), ('Jessica', '11'))\n"
     ]
    }
   ],
   "source": [
    "# Query 03\n",
    "# For every pair of students who both like each other, return the name and \n",
    "# grade of both students. Include each pair only once, with the two names in alphabetical order. \n",
    "\n",
    "highSchoolerTrim = highSchoolerRDD.map(lambda rec: rec.split(\"\\t\")).map(lambda rec: (rec[0], (rec[1], rec[2])))\n",
    "likesTrim = likesRDD.map(lambda rec: rec.split(\"\\t\")).map(lambda rec: (rec[1], rec[0]))\n",
    "\n",
    "# Broadcasting the likesRDD \n",
    "likesBC = sc.broadcast(list(likesTrim.toLocalIterator()))\n",
    "# Broadcasting the highSchoolerTrim RDD \n",
    "highSchoolerTrimBC = sc.broadcast(highSchoolerTrim.collectAsMap())\n",
    "\n",
    "def checkOther(rec):\n",
    "    for i in likesBC.value:\n",
    "        if(rec == i):\n",
    "            return (highSchoolerTrimBC.value.get(rec[0], None), highSchoolerTrimBC.value.get(rec[1], None))\n",
    "                \n",
    "# Should remove duplicate data\n",
    "Query03RDD = likesTrim.map(lambda rec: (rec[1], rec[0])).\\\n",
    "map(lambda rec: checkOther(rec)).filter(lambda rec: rec != None)\n",
    "for i in Query03RDD.collect(): print(i)\n",
    "\n",
    "#sqlContext.sql(\"select h1.name, h1.grade, h2.name, h2.grade from highschooler h1, highschooler h2 where h2.ID in \\\n",
    "#(select l.ID2 from likes l where h1.ID = l.ID1) and h1.ID in \\\n",
    "#(select l.ID1 from likes l where h2.ID = l.ID2)\").show()"
   ]
  },
  {
   "cell_type": "code",
   "execution_count": 30,
   "metadata": {},
   "outputs": [
    {
     "name": "stdout",
     "output_type": "stream",
     "text": [
      "(9, 'Jordan')\n",
      "(9, 'Tiffany')\n",
      "(12, 'Logan')\n"
     ]
    }
   ],
   "source": [
    "# Query 04\n",
    "# Find all students who do not appear in the Likes table (as a student who likes or is liked) \n",
    "# and return their names and grades. Sort by grade, then by name within each grade. \n",
    "\n",
    "highSchoolerTrim = highSchoolerRDD.map(lambda rec: rec.split(\"\\t\")).map(lambda rec: (rec[0], (rec[1], rec[2])))\n",
    "likesTrim = likesRDD.map(lambda rec: rec.split(\"\\t\")).map(lambda rec: [rec[1], rec[0]]).flatMap(lambda rec: rec)\n",
    "\n",
    "# Broadcasting the likesRDD \n",
    "likesBC = sc.broadcast(set(likesTrim.toLocalIterator()))\n",
    "\n",
    "def checkLikes(rec):\n",
    "    mID, (name, grade) = rec\n",
    "    if mID not in likesBC.value:\n",
    "        return int(grade), name\n",
    "Query04RDD = highSchoolerTrim.map(lambda rec: checkLikes(rec)).filter(lambda rec: rec != None).\\\n",
    "sortBy(lambda rec: (rec[0], rec[1]))\n",
    "for i in Query04RDD.collect(): print(i)"
   ]
  },
  {
   "cell_type": "code",
   "execution_count": 37,
   "metadata": {},
   "outputs": [
    {
     "name": "stdout",
     "output_type": "stream",
     "text": [
      "['Brittany', '10', 'Kris', '10']\n",
      "['Alexis', '11', 'Kris', '10']\n",
      "['Austin', '11', 'Jordan', '12']\n",
      "['John', '12', 'Haley', '10']\n"
     ]
    }
   ],
   "source": [
    "# Query 05\n",
    "# For every situation where student A likes student B, but we have no information about whom B \n",
    "# likes (that is, B does not appear as an ID1 in the Likes table), return A and B's names and grades. \n",
    "\n",
    "likesTrim = likesRDD.map(lambda rec: rec.split(\"\\t\")).map(lambda rec: (rec[0], rec[1]))\n",
    "likesBC = sc.broadcast(likesTrim.collectAsMap())\n",
    "highSchoolerTrim = highSchoolerRDD.map(lambda rec: rec.split(\"\\t\")).map(lambda rec: (rec[0], (rec[1], rec[2])))\n",
    "highSchoolerTrimBC = sc.broadcast(highSchoolerTrim.collectAsMap())\n",
    "\n",
    "def getSomeoneLikes(rec):\n",
    "    mID_A, (name, grade) = rec\n",
    "    mID_B = likesBC.value.get(mID_A, None)\n",
    "    if mID_B == None:\n",
    "        return None\n",
    "    elif mID_B not in likesBC.value:\n",
    "        return (name, grade, highSchoolerTrimBC.value.get(mID_B, (None, None))[0], highSchoolerTrimBC.value.get(mID_B, (None, None))[1])\n",
    "    \n",
    "Query05RDD = highSchoolerTrim.map(lambda rec: getSomeoneLikes(rec)).filter(lambda rec: rec != None).map(list)\n",
    "for i in Query05RDD.collect(): print(i)"
   ]
  },
  {
   "cell_type": "code",
   "execution_count": 56,
   "metadata": {},
   "outputs": [
    {
     "name": "stdout",
     "output_type": "stream",
     "text": [
      "('Jordan', '9')\n",
      "('Haley', '10')\n",
      "('Kris', '10')\n",
      "('Brittany', '10')\n",
      "('Gabriel', '11')\n",
      "('John', '12')\n",
      "('Logan', '12')\n"
     ]
    }
   ],
   "source": [
    "# Query 06\n",
    "# Find names and grades of students who only have friends in the same grade. \n",
    "# Return the result sorted by grade, then by name within each grade.\n",
    "\n",
    "friendTrim = friendRDD.map(lambda rec: rec.split(\"\\t\")).map(lambda rec: (rec[0], rec[1]))\n",
    "friendBC = sc.broadcast(list(friendTrim.toLocalIterator()))\n",
    "#print(friendBC.value)\n",
    "highSchoolerTrim = highSchoolerRDD.map(lambda rec: rec.split(\"\\t\")).map(lambda rec: (rec[0], (rec[1], rec[2])))\n",
    "highSchoolerTrimBC = sc.broadcast(highSchoolerTrim.collectAsMap())\n",
    "\n",
    "def getThemAll(rec):\n",
    "    mID, (name, grade) = rec\n",
    "    other = None\n",
    "    for f in friendBC.value:\n",
    "        if mID == f[0]:\n",
    "            other = f[1]\n",
    "            if grade != highSchoolerTrimBC.value.get(other, None)[1]:\n",
    "                return None\n",
    "    if other != None:\n",
    "        return highSchoolerTrimBC.value.get(mID, None)\n",
    "\n",
    "Query06RDD = highSchoolerTrim.map(lambda rec: getThemAll(rec)).filter(lambda rec: rec != None)\n",
    "for i in Query06RDD.collect(): print(i)"
   ]
  },
  {
   "cell_type": "code",
   "execution_count": 75,
   "metadata": {},
   "outputs": [
    {
     "name": "stdout",
     "output_type": "stream",
     "text": [
      "('1510', ('Jordan', '9'))\n",
      "('1689', ('Gabriel', '9'))\n",
      "('1381', ('Tiffany', '9'))\n",
      "('1709', ('Cassandra', '9'))\n",
      "('1101', ('Haley', '10'))\n",
      "('1782', ('Andrew', '10'))\n",
      "('1468', ('Kris', '10'))\n",
      "('1641', ('Brittany', '10'))\n",
      "('1247', ('Alexis', '11'))\n",
      "('1316', ('Austin', '11'))\n",
      "('1911', ('Gabriel', '11'))\n",
      "('1501', ('Jessica', '11'))\n",
      "('1304', ('Jordan', '12'))\n",
      "('1025', ('John', '12'))\n",
      "('1934', ('Kyle', '12'))\n",
      "('1661', ('Logan', '12'))\n"
     ]
    }
   ],
   "source": [
    "#Query 07\n",
    "# For each student A who likes a student B where the two are not friends, \n",
    "# find if they have a friend C in common (who can introduce them!). \n",
    "# For all such trios, return the name and grade of A, B, and C. \n",
    "\n",
    "\n",
    "# ******Should work on this query******\n",
    "\n",
    "\n",
    "friendTrim = friendRDD.map(lambda rec: rec.split(\"\\t\")).map(lambda rec: (rec[0], rec[1]))\n",
    "friendBC = sc.broadcast(list(friendTrim.toLocalIterator()))\n",
    "#print(friendBC.value)\n",
    "highSchoolerTrim = highSchoolerRDD.map(lambda rec: rec.split(\"\\t\")).map(lambda rec: (rec[0], (rec[1], rec[2])))\n",
    "highSchoolerTrimBC = sc.broadcast(highSchoolerTrim.collectAsMap())\n",
    "likesTrim = likesRDD.map(lambda rec: rec.split(\"\\t\")).map(lambda rec: (rec[1], rec[0]))\n",
    "likesBC = sc.broadcast(list(likesTrim.toLocalIterator()))\n",
    "\n",
    "def swap(rec):\n",
    "    return (rec[1], rec[0])\n",
    "def findCommon(rec):\n",
    "    mID, (name, grade) = rec\n",
    "    for l in likesBC.value:\n",
    "        if l[0] == mID:\n",
    "            for f in friendBC.value:\n",
    "                if l != f or l != swap(f):\n",
    "                    for c in friendBC.value:\n",
    "                        None\n",
    "    return rec\n",
    "\n",
    "Query07RDD = highSchoolerTrim.map(lambda rec: findCommon(rec))\n",
    "for i in Query07RDD.collect(): print(i)\n"
   ]
  },
  {
   "cell_type": "code",
   "execution_count": null,
   "metadata": {
    "collapsed": true
   },
   "outputs": [],
   "source": [
    "# Exercise @ https://lagunita.stanford.edu/courses/DB/SQL/SelfPaced/courseware/ch-sql/seq-exercise-sql_social_query_core/\n",
    "\n",
    "# Here's the schema:\n",
    "\n",
    "# Highschooler ( ID, name, grade ) \n",
    "# English: There is a high school student with unique ID and a given first name in a certain grade. \n",
    "\n",
    "# Friend ( ID1, ID2 ) \n",
    "# English: The student with ID1 is friends with the student with ID2. Friendship is mutual, \n",
    "# so if (123, 456) is in the Friend table, so is (456, 123). \n",
    "\n",
    "# Likes ( ID1, ID2 ) \n",
    "# English: The student with ID1 likes the student with ID2. Liking someone is not necessarily mutual, \n",
    "# so if (123, 456) is in the Likes table, there is no guarantee that (456, 123) is also present. "
   ]
  },
  {
   "cell_type": "code",
   "execution_count": 84,
   "metadata": {},
   "outputs": [
    {
     "name": "stdout",
     "output_type": "stream",
     "text": [
      "2\n",
      "+---+\n",
      "|  2|\n",
      "+---+\n",
      "|  2|\n",
      "+---+\n",
      "\n"
     ]
    }
   ],
   "source": [
    "# Query 08\n",
    "# Find the difference between the number of students in the school and the number of different first names.\n",
    "\n",
    "highSchoolerTotal = highSchoolerRDD.count()\n",
    "highSchoolerUniqueFirstName = highSchoolerRDD.map(lambda rec: rec.split(\"\\t\")).map(lambda rec: rec[1]).distinct().count()\n",
    "Query08 = highSchoolerTotal - highSchoolerUniqueFirstName\n",
    "print(Query08)\n",
    "\n",
    "sqlContext.sql(\"select 2\").show()"
   ]
  },
  {
   "cell_type": "code",
   "execution_count": 71,
   "metadata": {},
   "outputs": [
    {
     "name": "stdout",
     "output_type": "stream",
     "text": [
      "('Cassandra', '9')\n",
      "('Kris', '10')\n"
     ]
    }
   ],
   "source": [
    "# Query 09\n",
    "# Find the name and grade of all students who are liked by more than one other student. \n",
    "\n",
    "likesTrim = likesRDD.map(lambda rec: rec.split(\"\\t\")).map(lambda rec: (rec[1], rec[0])).groupByKey()\n",
    "likesBC = sc.broadcast(likesTrim.collectAsMap())\n",
    "highSchoolerTrim = highSchoolerRDD.map(lambda rec: rec.split(\"\\t\")).map(lambda rec: (rec[0], rec[1], rec[2]))\n",
    "def checkLikesMore(rec):\n",
    "    mID, name, grade = rec\n",
    "    countLikes = len(likesBC.value.get(mID, []))\n",
    "    if countLikes > 1:\n",
    "        return name, grade\n",
    "Query09RDD = highSchoolerTrim.map(lambda rec: checkLikesMore(rec)).filter(lambda rec: rec != None)\n",
    "for i in Query09RDD.collect(): print(i)"
   ]
  }
 ],
 "metadata": {
  "kernelspec": {
   "display_name": "Python 3",
   "language": "python",
   "name": "python3"
  },
  "language_info": {
   "codemirror_mode": {
    "name": "ipython",
    "version": 3
   },
   "file_extension": ".py",
   "mimetype": "text/x-python",
   "name": "python",
   "nbconvert_exporter": "python",
   "pygments_lexer": "ipython3",
   "version": "3.5.3"
  }
 },
 "nbformat": 4,
 "nbformat_minor": 2
}
