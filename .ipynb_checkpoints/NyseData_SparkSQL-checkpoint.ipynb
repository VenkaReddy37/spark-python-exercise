{
 "cells": [
  {
   "cell_type": "code",
   "execution_count": 1,
   "metadata": {
    "collapsed": true
   },
   "outputs": [],
   "source": [
    "# First stoping the SparkContext before initialising the new one\n",
    "# Note: At a time, only one SparkContext can be active\n",
    "sc.stop()"
   ]
  },
  {
   "cell_type": "code",
   "execution_count": 4,
   "metadata": {},
   "outputs": [],
   "source": [
    "from pyspark import SparkConf\n",
    "from pyspark import SparkContext\n",
    "\n",
    "conf = SparkConf()\n",
    "conf.setMaster('local[*]')\n",
    "conf.setAppName(\"TopN traded stocks by volume each month from NYSE data within a given year\")\n",
    "conf.set(\"spark.ui.port\", \"12345\")\n",
    "conf.set(\"spark.port.maxRetries\", \"30\")\n",
    "conf.set(\"spark.driver.cores\", \"1\")\n",
    "conf.set(\"spark.driver.memory\", \"1g\")\n",
    "conf.set(\"spark.executor.memory\",\"1g\")\n",
    "# We can also set all this in single line like below code\n",
    "conf.setAll([(\"spark.ui.port\", \"12345\"), (\"spark.port.maxRetries\", \"30\"), (\"spark.driver.cores\", \"1\"), (\"spark.driver.memory\", \"1g\"), (\"spark.executor.memory\",\"1g\")])\n",
    "\n",
    "sc = SparkContext(conf=conf)"
   ]
  },
  {
   "cell_type": "code",
   "execution_count": 4,
   "metadata": {},
   "outputs": [
    {
     "name": "stdout",
     "output_type": "stream",
     "text": [
      "['A', '01-Jan-2009', '15.63', '15.63', '15.63', '15.63', '0']\n",
      "['AA', '01-Jan-2009', '11.26', '11.26', '11.26', '11.26', '0']\n",
      "['AAP', '01-Jan-2009', '33.65', '33.65', '33.65', '33.65', '0']\n",
      "['AAV', '01-Jan-2009', '4.21', '4.21', '4.21', '4.21', '0']\n",
      "['AB', '01-Jan-2009', '20.79', '20.79', '20.79', '20.79', '0']\n"
     ]
    }
   ],
   "source": [
    "nyseData = sc.textFile(\"/Users/pravinkumar/Documents/Spark/testData/nyse/nyse_data\").map(lambda rec: rec.split(\",\"))\n",
    "for i in nyseData.take(5): print(i)"
   ]
  },
  {
   "cell_type": "code",
   "execution_count": null,
   "metadata": {
    "collapsed": true
   },
   "outputs": [],
   "source": [
    "# Get top N stocks by volume for each day or month\n",
    "# Use the scala interpreter and preview the data after each step using Spark APIs\n",
    "# Develop the program using sbt and eclipse or intellij\n",
    "# Develop topNStocks function - function should take 2 parameters\n",
    "# First Parameter - Tuple of date or month and then list of stocks for that date or month\n",
    "# Second Parameter - topN\n",
    "# Function should sort data in descending order and return top N stocks\n",
    "# If there are more than N stocks in topN print all stocks (dense rank)\n",
    "# Compile the jar, ship it and run it on the lab\n",
    "# Output format - Date or month, Stock Name, Volume (all 3 fields should be delimited by \\t)\n",
    "# Determine number of executors used to run\n",
    "# Determine number of executor tasks used to run"
   ]
  },
  {
   "cell_type": "code",
   "execution_count": 17,
   "metadata": {},
   "outputs": [
    {
     "name": "stdout",
     "output_type": "stream",
     "text": [
      "('Sep-2010', [(2967740200.0, 'BAC'), (1108840100.0, 'F'), (1210677900.0, 'GE')])\n",
      "('Feb-2013', [(765989400.0, 'GE'), (3261781100.0, 'BAC'), (824464900.0, 'NOK')])\n",
      "('Jul-2009', [(2107602600.0, 'GE'), (6736111500.0, 'BAC'), (2779726400.0, 'CIT')])\n",
      "('Nov-2010', [(2621380800.0, 'F'), (3928996400.0, 'BAC'), (1109510800.0, 'GE')])\n",
      "('Jan-2012', [(1264849600.0, 'F'), (1086516300.0, 'C'), (6063114100.0, 'BAC')])\n",
      "('May-2009', [(2423500700.0, 'AIG'), (3206448400.0, 'WFC'), (11168887300.0, 'BAC')])\n",
      "('Jul-2013', [(2461446600.0, 'BAC'), (888221500.0, 'AMD'), (1639313300.0, 'S')])\n",
      "('Jul-2012', [(1493601200.0, 'S'), (1046139900.0, 'GE'), (2814874000.0, 'BAC')])\n",
      "('Aug-2013', [(690523500.0, 'JCP'), (738499300.0, 'F'), (1933851400.0, 'BAC')])\n",
      "('Nov-2011', [(1254006700.0, 'GE'), (5669949800.0, 'BAC'), (1136410100.0, 'C')])\n"
     ]
    }
   ],
   "source": [
    "nyseStocks = sc.textFile(\"/Users/pravinkumar/Documents/Spark/testData/nyse/nyse_data\").map(lambda rec: rec.split(\",\"))\n",
    "\n",
    "def trimMonth(rec):\n",
    "    return rec[3:]\n",
    "\n",
    "\n",
    "def topNStocks(rec, n):\n",
    "    tops = set()\n",
    "    topN = set()\n",
    "    topStocks = []\n",
    "    for i in rec[1]:\n",
    "        tops.add(i[0])\n",
    "    for j in range(0, n):\n",
    "        maxVolume = max(tops)\n",
    "        topN.add(maxVolume)\n",
    "        tops.discard(maxVolume)\n",
    "    for k in rec[1]:\n",
    "        if k[0] in topN:\n",
    "            topStocks.append(k)\n",
    "    return (rec[0], topStocks)\n",
    "    \n",
    "nyseStocksMap = nyseStocks.map(lambda rec: ((trimMonth(rec[1]), rec[0]), float(rec[6]))).reduceByKey(lambda acc, value: acc + value).\\\n",
    "map(lambda rec: (rec[0][0], (rec[1], rec[0][1]))).groupByKey().map(lambda rec: topNStocks(rec, 3))\n",
    "\n",
    "for i in nyseStocksMap.take(10): print(i)"
   ]
  }
 ],
 "metadata": {
  "kernelspec": {
   "display_name": "Python 3",
   "language": "python",
   "name": "python3"
  },
  "language_info": {
   "codemirror_mode": {
    "name": "ipython",
    "version": 3
   },
   "file_extension": ".py",
   "mimetype": "text/x-python",
   "name": "python",
   "nbconvert_exporter": "python",
   "pygments_lexer": "ipython3",
   "version": "3.5.3"
  }
 },
 "nbformat": 4,
 "nbformat_minor": 2
}
