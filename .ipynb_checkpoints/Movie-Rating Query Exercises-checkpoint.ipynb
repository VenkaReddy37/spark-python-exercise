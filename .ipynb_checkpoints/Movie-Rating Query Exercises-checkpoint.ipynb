{
 "cells": [
  {
   "cell_type": "code",
   "execution_count": 54,
   "metadata": {},
   "outputs": [],
   "source": [
    "from pyspark.sql import SQLContext\n",
    "sqlContext = SQLContext(sc)"
   ]
  },
  {
   "cell_type": "code",
   "execution_count": 55,
   "metadata": {},
   "outputs": [
    {
     "name": "stdout",
     "output_type": "stream",
     "text": [
      "101,Gone with the Wind,1939,Victor Fleming\n",
      "102,Star Wars,1977,George Lucas\n",
      "201,101,2,2011-01-22\n",
      "201,101,4,2011-01-27\n",
      "201,Sarah Martinez\n",
      "202,Daniel Lewis\n"
     ]
    }
   ],
   "source": [
    "# Creating RDD's\n",
    "\n",
    "movieRDD = sc.textFile(\"/Users/pravinkumar/Documents/Spark/testData/Movie-Rating\\ Query\\ Exercises/Movie.txt\")\n",
    "ratingRDD = sc.textFile(\"/Users/pravinkumar/Documents/Spark/testData/Movie-Rating\\ Query\\ Exercises/Rating.txt\")\n",
    "reviewerRDD = sc.textFile(\"/Users/pravinkumar/Documents/Spark/testData/Movie-Rating\\ Query\\ Exercises/Reviewer.txt\")\n",
    "\n",
    "for i in movieRDD.take(2): print(i)\n",
    "for i in ratingRDD.take(2): print(i)\n",
    "for i in reviewerRDD.take(2): print(i)"
   ]
  },
  {
   "cell_type": "code",
   "execution_count": 56,
   "metadata": {},
   "outputs": [
    {
     "name": "stdout",
     "output_type": "stream",
     "text": [
      "+--------------+---+------------------+----+\n",
      "|      director|mID|             title|year|\n",
      "+--------------+---+------------------+----+\n",
      "|Victor Fleming|101|Gone with the Wind|1939|\n",
      "|  George Lucas|102|         Star Wars|1977|\n",
      "+--------------+---+------------------+----+\n",
      "\n",
      "+---+---+----------+-----+\n",
      "|mID|rID|ratingDate|stars|\n",
      "+---+---+----------+-----+\n",
      "|101|201|2011-01-22|    2|\n",
      "|101|201|2011-01-27|    4|\n",
      "+---+---+----------+-----+\n",
      "\n",
      "+--------------+---+\n",
      "|          name|rID|\n",
      "+--------------+---+\n",
      "|Sarah Martinez|201|\n",
      "|  Daniel Lewis|202|\n",
      "+--------------+---+\n",
      "\n"
     ]
    }
   ],
   "source": [
    "# Creating DF's\n",
    "from pyspark.sql import Row\n",
    "movieDF = movieRDD.map(lambda rec: rec.split(\",\")).map(lambda rec: Row(mID = rec[0], title = rec[1], year = rec[2], \\\n",
    "                                                                       director = rec[3])).toDF()\n",
    "reviewerDF = reviewerRDD.map(lambda rec: rec.split(\",\")).map(lambda rec: Row(rID = rec[0], name = rec[1])).toDF()\n",
    "ratingDF = ratingRDD.map(lambda rec: rec.split(\",\")).map(lambda rec: Row(rID = rec[0], mID = rec[1], stars = rec[2], ratingDate = rec[3])).toDF()\n",
    "\n",
    "movieDF.registerTempTable(\"movie\")\n",
    "reviewerDF.registerTempTable(\"reviewer\")\n",
    "ratingDF.registerTempTable(\"rating\")\n",
    "\n",
    "movieDF.limit(2).show()\n",
    "ratingDF.limit(2).show()\n",
    "reviewerDF.limit(2).show()"
   ]
  },
  {
   "cell_type": "code",
   "execution_count": 6,
   "metadata": {
    "collapsed": true
   },
   "outputs": [],
   "source": [
    "# Here's the schema: \n",
    "\n",
    "# Movie ( mID, title, year, director ) \n",
    "# English: There is a movie with ID number mID, a title, a release year, and a director. \n",
    "\n",
    "# Reviewer ( rID, name ) \n",
    "# English: The reviewer with ID number rID has a certain name. \n",
    "\n",
    "# Rating ( rID, mID, stars, ratingDate ) \n",
    "# English: The reviewer rID gave the movie mID a number of stars rating (1-5) on a certain ratingDate. "
   ]
  },
  {
   "cell_type": "code",
   "execution_count": 71,
   "metadata": {},
   "outputs": [
    {
     "name": "stdout",
     "output_type": "stream",
     "text": [
      "E.T.\n",
      "Raiders of the Lost Ark\n",
      "+--------------------+\n",
      "|               title|\n",
      "+--------------------+\n",
      "|                E.T.|\n",
      "|Raiders of the Lo...|\n",
      "+--------------------+\n",
      "\n"
     ]
    }
   ],
   "source": [
    "# Query 01 - Find the titles of all movies directed by Steven Spielberg.\n",
    "\n",
    "Query01RDD = movieRDD.map(lambda rec: rec.split(\",\")).filter(lambda rec: rec[3] == \"Steven Spielberg\").\\\n",
    "map(lambda rec: rec[1])\n",
    "for i in Query01RDD.collect(): print(i)\n",
    "    \n",
    "sqlContext.sql(\"select m.title from movie m where m.director = 'Steven Spielberg'\").show()"
   ]
  },
  {
   "cell_type": "code",
   "execution_count": 96,
   "metadata": {},
   "outputs": [
    {
     "name": "stdout",
     "output_type": "stream",
     "text": [
      "2011\n",
      "+----+\n",
      "|year|\n",
      "+----+\n",
      "|2011|\n",
      "|2011|\n",
      "|2011|\n",
      "|2011|\n",
      "+----+\n",
      "\n"
     ]
    }
   ],
   "source": [
    "# Query 02 - Find all years that have a movie that received a rating of 4 or 5, and sort them in increasing order.\n",
    "\n",
    "def trim(x):\n",
    "    return x[0:4]\n",
    "Query02RDD = ratingRDD.map(lambda rec: rec.split(\",\")).filter(lambda rec: rec[2] == \"4\" or rec[2] == \"5\").\\\n",
    "filter(lambda rec: rec[3] != \"null\").map(lambda rec: int(trim(rec[3]))).distinct(numPartitions = 1)\n",
    "for i in Query02RDD.collect(): print(i)\n",
    "\n",
    "sqlContext.sql(\"select distinct SUBSTRING(r.ratingDate, 1, 4) AS year from rating r where stars in ('4', '5') and \\\n",
    "SUBSTRING(r.ratingDate, 1, 4) != 'null'\").show()"
   ]
  },
  {
   "cell_type": "code",
   "execution_count": null,
   "metadata": {
    "collapsed": true
   },
   "outputs": [],
   "source": [
    "# Query 03 - Find the titles of all movies that have no ratings. "
   ]
  },
  {
   "cell_type": "code",
   "execution_count": null,
   "metadata": {
    "collapsed": true
   },
   "outputs": [],
   "source": [
    "# Query 04 - Some reviewers didn't provide a date with their rating. \n",
    "# Find the names of all reviewers who have ratings with a NULL value for the date. "
   ]
  },
  {
   "cell_type": "code",
   "execution_count": null,
   "metadata": {
    "collapsed": true
   },
   "outputs": [],
   "source": [
    "# Query 05 - Write a query to return the ratings data in a more readable format: \n",
    "# reviewer name, movie title, stars, and ratingDate. Also, sort the data, \n",
    "# first by reviewer name, then by movie title, and lastly by number of stars. "
   ]
  },
  {
   "cell_type": "code",
   "execution_count": null,
   "metadata": {
    "collapsed": true
   },
   "outputs": [],
   "source": [
    "# Query 06 - For all cases where the same reviewer rated the same movie twice and gave it a higher \n",
    "# rating the second time, return the reviewer's name and the title of the movie."
   ]
  },
  {
   "cell_type": "code",
   "execution_count": null,
   "metadata": {
    "collapsed": true
   },
   "outputs": [],
   "source": [
    "# Query 07 - For each movie that has at least one rating, find the highest number of stars that movie received. \n",
    "# Return the movie title and number of stars. Sort by movie title."
   ]
  },
  {
   "cell_type": "code",
   "execution_count": null,
   "metadata": {
    "collapsed": true
   },
   "outputs": [],
   "source": [
    "# Query 08 - For each movie, return the title and the 'rating spread', that is, \n",
    "# the difference between highest and lowest ratings given to that movie. \n",
    "# Sort by rating spread from highest to lowest, then by movie title. "
   ]
  },
  {
   "cell_type": "code",
   "execution_count": null,
   "metadata": {
    "collapsed": true
   },
   "outputs": [],
   "source": [
    "# Query 09 - Find the difference between the average rating of movies released before 1980 \n",
    "# and the average rating of movies released after 1980. (Make sure to calculate the average rating \n",
    "# for each movie, then the average of those averages for movies before 1980 and movies after. \n",
    "# Don't just calculate the overall average rating before and after 1980.) "
   ]
  },
  {
   "cell_type": "code",
   "execution_count": null,
   "metadata": {
    "collapsed": true
   },
   "outputs": [],
   "source": [
    "# Query 10 - "
   ]
  },
  {
   "cell_type": "code",
   "execution_count": null,
   "metadata": {
    "collapsed": true
   },
   "outputs": [],
   "source": [
    "# Query 11 - "
   ]
  }
 ],
 "metadata": {
  "kernelspec": {
   "display_name": "Python 3",
   "language": "python",
   "name": "python3"
  },
  "language_info": {
   "codemirror_mode": {
    "name": "ipython",
    "version": 3
   },
   "file_extension": ".py",
   "mimetype": "text/x-python",
   "name": "python",
   "nbconvert_exporter": "python",
   "pygments_lexer": "ipython3",
   "version": "3.5.3"
  }
 },
 "nbformat": 4,
 "nbformat_minor": 2
}
