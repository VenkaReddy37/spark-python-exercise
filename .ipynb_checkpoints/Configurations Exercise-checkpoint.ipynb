{
 "cells": [
  {
   "cell_type": "code",
   "execution_count": 42,
   "metadata": {},
   "outputs": [
    {
     "name": "stdout",
     "output_type": "stream",
     "text": [
      "[('spark.python.worker.memory', '1g'), ('spark.master', 'local[*]'), ('spark.executor.extraClassPath', 'pravin'), ('spark.submit.deployMode', 'client'), ('spark.app.name', 'Configurations Exercise'), ('spark.driver.memory', '1g')]\n",
      "pravin\n",
      "True\n",
      "pravin\n"
     ]
    }
   ],
   "source": [
    "from pyspark import SparkContext, SparkConf\n",
    "# Sopting sc before starting a new one.\n",
    "sc.stop()\n",
    "# Creating conf object\n",
    "conf = SparkConf().setAppName(\"Configurations Exercise\").setMaster(\"local[*]\")\n",
    "\n",
    "conf.set(\"spark.driver.memory\", \"1g\")\n",
    "conf.setAll([(\"spark.executor.extraClassPath\", \"pravin\"), (\"spark.python.worker.memory\", \"1g\") ])\n",
    "\n",
    "print(conf.getAll())\n",
    "print(conf.get(\"spark.executor.extraClassPath\"))\n",
    "print(conf.contains(\"spark.executor.extraClassPath\"))\n",
    "\n",
    "conf.setIfMissing(\"spark.executor.extraClassPath\", \"kumar\")\n",
    "print(conf.get(\"spark.executor.extraClassPath\"))\n",
    "\n",
    "sc = SparkContext(conf=conf)"
   ]
  }
 ],
 "metadata": {
  "kernelspec": {
   "display_name": "Python 3",
   "language": "python",
   "name": "python3"
  }
 },
 "nbformat": 4,
 "nbformat_minor": 2
}
