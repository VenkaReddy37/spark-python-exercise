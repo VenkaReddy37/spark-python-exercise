{
 "cells": [
  {
   "cell_type": "code",
   "execution_count": 30,
   "metadata": {},
   "outputs": [
    {
     "name": "stdout",
     "output_type": "stream",
     "text": [
      "agency_id,agency_name,agency_url,agency_timezone,agency_lang,agency_phone\n",
      "\"978\",\"Dublin Bus\",\"http://www.transportforireland.ie\",\"Europe/Dublin\",\"EN\",\"131500\"\n"
     ]
    }
   ],
   "source": [
    "# Extracting the data\n",
    "agency = sc.textFile(\"/Users/pravinkumar/Documents/Spark/testData/google_transit_dublinbus/agency.csv\")\n",
    "calendarDates = sc.textFile(\"/Users/pravinkumar/Documents/Spark/testData/google_transit_dublinbus/calendar_dates.csv\")\n",
    "calendar = sc.textFile(\"/Users/pravinkumar/Documents/Spark/testData/google_transit_dublinbus/calendar.csv\")\n",
    "routes = sc.textFile(\"/Users/pravinkumar/Documents/Spark/testData/google_transit_dublinbus/routes.csv\")\n",
    "shapes = sc.textFile(\"/Users/pravinkumar/Documents/Spark/testData/google_transit_dublinbus/shapes.csv\")\n",
    "stopTimes = sc.textFile(\"/Users/pravinkumar/Documents/Spark/testData/google_transit_dublinbus/stop_times.csv\")\n",
    "stops = sc.textFile(\"/Users/pravinkumar/Documents/Spark/testData/google_transit_dublinbus/stops.csv\")\n",
    "transfers = sc.textFile(\"/Users/pravinkumar/Documents/Spark/testData/google_transit_dublinbus/transfers.csv\")\n",
    "trips = sc.textFile(\"/Users/pravinkumar/Documents/Spark/testData/google_transit_dublinbus/trips.csv\")\n",
    "\n",
    "# Getting header from each file\n",
    "agencyHeader = agency.first()\n",
    "calendarDatesHeader = calendarDates.first()\n",
    "calendarHeader = calendar.first()\n",
    "routesHeader = routes.first()\n",
    "shapesHeader = shapes.first()\n",
    "stopTimesHeader = stopTimes.first()\n",
    "stopsHeader = stops.first()\n",
    "transfersHeader = transfers.first()\n",
    "tripsHeader = trips.first()\n",
    "\n",
    "# Removing header from the data\n",
    "agencyData = agency.filter(lambda rec: rec != agencyHeader)\n",
    "calendarDatesData = calendarDates.filter(lambda rec: rec != calendarDatesHeader)\n",
    "calendarData = calendar.filter(lambda rec: rec != calendarHeader)\n",
    "routesData = routes.filter(lambda rec: rec != routesHeader)\n",
    "shapesData = shapes.filter(lambda rec: rec != shapesHeader)\n",
    "stopTimesData = stopTimes.filter(lambda rec: rec != stopTimesHeader)\n",
    "stopsData = stops.filter(lambda rec: rec != stopsHeader)\n",
    "transfersData = transfers.filter(lambda rec: rec != transfersHeader)\n",
    "tripsData = trips.filter(lambda rec: rec != tripsHeader)\n",
    "\n",
    "# Printing sample data from Agency\n",
    "print(agencyHeader)\n",
    "for i in agencyData.take(10): print(i)"
   ]
  },
  {
   "cell_type": "code",
   "execution_count": 31,
   "metadata": {},
   "outputs": [
    {
     "name": "stdout",
     "output_type": "stream",
     "text": [
      "stop_id,stop_name,stop_lat,stop_lon,location_type,parent_station\n",
      "\"822000438\",\"Maldron Hotel\",\"53.3452363247087\",\"-6.24059244133836\",\"\",\"\"\n",
      "\"8220B007612\",\"Davenport Hotel Merrion Street\",\"53.3413467794909\",\"-6.25052948036745\",\"\",\"\"\n",
      "\"8220DB000002\",\"Rotunda, Parnell Square West\",\"53.3522443611383\",\"-6.26372321891887\",\"\",\"\"\n",
      "********************************************************************************\n",
      "trip_id,arrival_time,departure_time,stop_id,stop_sequence,stop_headsign,pickup_type,drop_off_type,shape_dist_traveled\n",
      "\"7519.y1005.60-31D-b12-1.149.O\",\"17:15:00\",\"17:15:00\",\"8220DB007571\",\"1\",\" Baldoyle\",\"0\",\"0\",\"0\"\n",
      "\"7519.y1005.60-31D-b12-1.149.O\",\"17:18:00\",\"17:18:00\",\"8220DB001190\",\"2\",\" Baldoyle\",\"0\",\"0\",\"1716.45902055213\"\n",
      "\"7519.y1005.60-31D-b12-1.149.O\",\"17:21:00\",\"17:21:00\",\"8220DB001191\",\"3\",\" Baldoyle\",\"0\",\"0\",\"1925.58338546449\"\n"
     ]
    }
   ],
   "source": [
    "# Printing sample data from stops\n",
    "print(stopsHeader)\n",
    "for i in stopsData.take(3): print(i)\n",
    "print(\"*\"*80)    \n",
    "# Printing sample data from stops\n",
    "print(stopTimesHeader)\n",
    "for i in stopTimesData.take(3): print(i)"
   ]
  },
  {
   "cell_type": "code",
   "execution_count": 33,
   "metadata": {},
   "outputs": [
    {
     "name": "stdout",
     "output_type": "stream",
     "text": [
      "('\"336.y1005.60-17-b12-1.36.O\"', ('\"8220DB003353\"', '\"Dolphins Barn', '\"07:05:37\"', '\"07:05:37\"', '\"6\"', '\" Blackrock DART\"'))\n",
      "('\"339.y1005.60-17-b12-1.36.O\"', ('\"8220DB003353\"', '\"Dolphins Barn', '\"07:25:37\"', '\"07:25:37\"', '\"6\"', '\" Blackrock DART\"'))\n",
      "('\"340.y1005.60-17-b12-1.36.O\"', ('\"8220DB003353\"', '\"Dolphins Barn', '\"07:45:37\"', '\"07:45:37\"', '\"6\"', '\" Blackrock DART\"'))\n",
      "('\"10107.y1004.60-17-b12-1.36.O\"', ('\"8220DB003353\"', '\"Dolphins Barn', '\"21:33:31\"', '\"21:33:31\"', '\"6\"', '\" Blackrock DART\"'))\n",
      "('\"10109.y1004.60-17-b12-1.36.O\"', ('\"8220DB003353\"', '\"Dolphins Barn', '\"23:18:31\"', '\"23:18:31\"', '\"6\"', '\" Blackrock DART\"'))\n",
      "('\"10111.y1004.60-17-b12-1.36.O\"', ('\"8220DB003353\"', '\"Dolphins Barn', '\"22:13:31\"', '\"22:13:31\"', '\"6\"', '\" Blackrock DART\"'))\n",
      "('\"7931.y1004.60-17-b12-1.36.O\"', ('\"8220DB003353\"', '\"Dolphins Barn', '\"07:28:31\"', '\"07:28:31\"', '\"6\"', '\" Blackrock DART\"'))\n",
      "('\"7935.y1004.60-17-b12-1.36.O\"', ('\"8220DB003353\"', '\"Dolphins Barn', '\"07:53:31\"', '\"07:53:31\"', '\"6\"', '\" Blackrock DART\"'))\n",
      "('\"7933.y1004.60-17-b12-1.36.O\"', ('\"8220DB003353\"', '\"Dolphins Barn', '\"09:18:10\"', '\"09:18:10\"', '\"6\"', '\" Blackrock DART\"'))\n",
      "('\"7937.y1004.60-17-b12-1.36.O\"', ('\"8220DB003353\"', '\"Dolphins Barn', '\"09:53:10\"', '\"09:53:10\"', '\"6\"', '\" Blackrock DART\"'))\n",
      "********************************************************************************\n",
      "route_id,service_id,trip_id,shape_id,trip_headsign,direction_id\n",
      "\"60-757-b12-1\",\"y1004\",\"13207.y1004.60-757-b12-1.172.O\",\"60-757-b12-1.172.O\",\"Charlotte Way - Dublin Airport\",\"0\"\n",
      "\"60-757-b12-1\",\"y1004\",\"13227.y1004.60-757-b12-1.172.O\",\"60-757-b12-1.172.O\",\"Charlotte Way - Dublin Airport\",\"0\"\n",
      "\"60-757-b12-1\",\"y1004\",\"13257.y1004.60-757-b12-1.172.O\",\"60-757-b12-1.172.O\",\"Charlotte Way - Dublin Airport\",\"0\"\n"
     ]
    }
   ],
   "source": [
    "stopsTrim = stopsData.map(lambda rec: rec.split(\",\")).map(lambda rec: (rec[0], (rec)))\n",
    "\n",
    "stopTimesTrim = stopTimesData.map(lambda rec: rec.split(\",\")).map(lambda rec: (rec[3], (rec)))\n",
    "\n",
    "stopJoinStopTime = stopsTrim.join(stopTimesTrim)\n",
    "\n",
    "stopJoinStopTimeTrim = stopJoinStopTime.map(lambda rec: (rec[1][1][0], (rec[0], rec[1][0][1], rec[1][1][1], rec[1][1][2], rec[1][1][4], rec[1][1][5])))\n",
    "\n",
    "for i in stopJoinStopTimeTrim.take(10): print(i)\n",
    "    \n",
    "print(\"*\"*80)    \n",
    "# Printing sample data from stops\n",
    "print(tripsHeader)\n",
    "for i in tripsData.take(3): print(i)"
   ]
  },
  {
   "cell_type": "code",
   "execution_count": 36,
   "metadata": {},
   "outputs": [
    {
     "name": "stdout",
     "output_type": "stream",
     "text": [
      "('\"4947.y1005.60-11-b12-1.14.O\"', (('\"8220DB000852\"', '\"Ranelagh', '\"21:09:36\"', '\"21:09:36\"', '\"32\"', '\" Sandyford B.D.\"'), ('\"60-11-b12-1\"', '\"y1005\"', '\"Saint Pappin\\'s Road (on St. Pappin\\'s Road) - Blackthorn Road\"')))\n",
      "('\"4947.y1005.60-11-b12-1.14.O\"', (('\"8220DB000042\"', '\"Drumcondra (Dublin)', '\"20:37:11\"', '\"20:37:11\"', '\"9\"', '\" Sandyford B.D.\"'), ('\"60-11-b12-1\"', '\"y1005\"', '\"Saint Pappin\\'s Road (on St. Pappin\\'s Road) - Blackthorn Road\"')))\n",
      "('\"4947.y1005.60-11-b12-1.14.O\"', (('\"8220DB000747\"', '\"Dublin City South', '\"20:59:41\"', '\"20:59:41\"', '\"23\"', '\" Sandyford B.D.\"'), ('\"60-11-b12-1\"', '\"y1005\"', '\"Saint Pappin\\'s Road (on St. Pappin\\'s Road) - Blackthorn Road\"')))\n"
     ]
    }
   ],
   "source": [
    "tripsTrim = tripsData.map(lambda rec: rec.split(\",\")).map(lambda rec: (rec[2], (rec[0], rec[1], rec[4])))\n",
    "\n",
    "stopRJoinTrip = stopJoinStopTimeTrim.join(tripsTrim)\n",
    "\n",
    "for i in stopRJoinTrip.take(3): print(i)\n",
    "\n",
    "#stopRJoinTrip.saveAsTextFile(\"/Users/pravinkumar/Documents/Spark/Results/googleTransitData\")\n",
    "\n",
    "#stopRJoinTrip.saveAsSequenceFile(\"/Users/pravinkumar/Documents/Spark/Results/googleTransitDataSeq\")"
   ]
  },
  {
   "cell_type": "code",
   "execution_count": null,
   "metadata": {
    "collapsed": true
   },
   "outputs": [],
   "source": [
    "\\"
   ]
  }
 ],
 "metadata": {
  "kernelspec": {
   "display_name": "Python 3",
   "language": "python",
   "name": "python3"
  },
  "language_info": {
   "codemirror_mode": {
    "name": "ipython",
    "version": 3
   },
   "file_extension": ".py",
   "mimetype": "text/x-python",
   "name": "python",
   "nbconvert_exporter": "python",
   "pygments_lexer": "ipython3",
   "version": "3.5.3"
  }
 },
 "nbformat": 4,
 "nbformat_minor": 2
}
