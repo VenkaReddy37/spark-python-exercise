{
 "cells": [
  {
   "cell_type": "code",
   "execution_count": 8,
   "metadata": {
    "collapsed": true
   },
   "outputs": [],
   "source": [
    "from pyspark import SparkContext\n",
    "from pyspark.streaming import StreamingContext\n",
    "from pyspark.sql import Row, SparkSession\n",
    "sc.stop()\n",
    "\n",
    "# Create a local StreamingContext with two working thread and batch interval of 1 second\n",
    "sc = SparkContext(\"local[*]\", \"Joining DStream with RDD\")\n",
    "ssc = StreamingContext(sc, 10)\n",
    "ssc.checkpoint(\"/Users/pravinkumar/Documents/Spark/Results/checkPointForStreaming\")"
   ]
  },
  {
   "cell_type": "code",
   "execution_count": 9,
   "metadata": {
    "collapsed": true
   },
   "outputs": [],
   "source": [
    "# Create a DStream that will connect to hostname:port, like localhost:9999\n",
    "socket = ssc.socketTextStream(\"localhost\", 9999)"
   ]
  },
  {
   "cell_type": "code",
   "execution_count": 14,
   "metadata": {
    "collapsed": true
   },
   "outputs": [],
   "source": [
    "def getSparkSessionInstance(sparkConf):\n",
    "    if ('sparkSessionSingletonInstance' not in globals()):\n",
    "        globals()['sparkSessionSingletonInstance'] = SparkSession\\\n",
    "            .builder\\\n",
    "            .config(conf=sparkConf)\\\n",
    "            .getOrCreate()\n",
    "    return globals()['sparkSessionSingletonInstance']\n",
    "\n",
    "# Convert RDDs of the words DStream to DataFrame and run SQL query\n",
    "def process(time, rdd):\n",
    "    print(\"========= %s =========\" % str(time))\n",
    "\n",
    "    \n",
    "    # Get the singleton instance of SparkSession\n",
    "    spark = getSparkSessionInstance(rdd.context.getConf())\n",
    "\n",
    "    # Convert RDD[String] to RDD[Row] to DataFrame\n",
    "    rowRdd = rdd.map(lambda rec: Row(color = rec[0], number = rec[1]))\n",
    "    deckRDD = spark.sparkContext.textFile(\"/Users/pravinkumar/Documents/Spark/testData/cards/deckofcards.txt\").map(lambda rec: rec.split('|')).map(lambda rec: Row(color = rec[0], number = rec[2]))\n",
    "\n",
    "    deckJoin = rowRdd.join(deckRDD)\n",
    "\n",
    "    for i in deckJoin.take(10): print(i)\n",
    "    "
   ]
  },
  {
   "cell_type": "code",
   "execution_count": 15,
   "metadata": {
    "collapsed": true
   },
   "outputs": [],
   "source": [
    "# formatting deckDstream and deckRDD for the join\n",
    "deckDstream = socket.map(lambda rec: rec.split(\"|\"))\n",
    "#deckRDD = sc.textFile(\"/Users/pravinkumar/Documents/Spark/testData/cards/deckofcards.txt\").map(lambda rec: rec.split('|')).map(lambda rec: Row(color = rec[0], number = rec[2]))\n"
   ]
  },
  {
   "cell_type": "code",
   "execution_count": 16,
   "metadata": {
    "collapsed": true
   },
   "outputs": [],
   "source": [
    "# Joining each batch of DStream with deckRDD \n",
    "\n",
    "deckDstream.foreachRDD(process)"
   ]
  },
  {
   "cell_type": "code",
   "execution_count": null,
   "metadata": {},
   "outputs": [
    {
     "name": "stdout",
     "output_type": "stream",
     "text": [
      "========= 2017-07-09 23:17:20 =========\n",
      "========= 2017-07-09 23:17:30 =========\n",
      "========= 2017-07-09 23:17:40 =========\n",
      "========= 2017-07-09 23:17:50 =========\n",
      "========= 2017-07-09 23:18:00 =========\n",
      "========= 2017-07-09 23:18:10 =========\n",
      "========= 2017-07-09 23:18:20 =========\n",
      "========= 2017-07-09 23:18:30 =========\n",
      "========= 2017-07-09 23:18:40 =========\n",
      "========= 2017-07-09 23:18:50 =========\n",
      "========= 2017-07-09 23:19:00 =========\n",
      "========= 2017-07-09 23:19:10 =========\n",
      "========= 2017-07-09 23:19:20 =========\n",
      "========= 2017-07-09 23:19:30 =========\n"
     ]
    }
   ],
   "source": [
    "ssc.start()             # Start the computation\n",
    "ssc.awaitTerminationOrTimeout(300)  # Waiting for 5 min before terminating the computation.\n",
    "ssc.stop()              # stoping the computation if timeout happens."
   ]
  }
 ],
 "metadata": {
  "kernelspec": {
   "display_name": "Python 3",
   "language": "python",
   "name": "python3"
  },
  "language_info": {
   "codemirror_mode": {
    "name": "ipython",
    "version": 3
   },
   "file_extension": ".py",
   "mimetype": "text/x-python",
   "name": "python",
   "nbconvert_exporter": "python",
   "pygments_lexer": "ipython3",
   "version": "3.5.3"
  }
 },
 "nbformat": 4,
 "nbformat_minor": 2
}
