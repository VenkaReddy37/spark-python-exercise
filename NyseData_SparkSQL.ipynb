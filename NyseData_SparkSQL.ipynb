{
 "cells": [
  {
   "cell_type": "code",
   "execution_count": 28,
   "metadata": {
    "collapsed": true
   },
   "outputs": [],
   "source": [
    "# sc is an existing SparkContext.\n",
    "from pyspark.sql import SQLContext, Row\n",
    "sqlContext = SQLContext(sc)"
   ]
  },
  {
   "cell_type": "code",
   "execution_count": 36,
   "metadata": {},
   "outputs": [
    {
     "name": "stdout",
     "output_type": "stream",
     "text": [
      "('Sep-2010', [('A', '3639800'), ('AA', '24246100'), ('AAN', '554000'), ('SJM', '554000'), ('WTI', '554000')])\n",
      "('Feb-2013', [('A', '2827800'), ('AA', '18242000'), ('AAN', '355600')])\n"
     ]
    }
   ],
   "source": [
    "#Computing using RDD's\n",
    "\n",
    "nyseData = sc.textFile(\"/Users/pravinkumar/Documents/Spark/testData/nyse/nyse_data\")\n",
    "\n",
    "nyseMap = nyseData.map(lambda rec: rec.split(\",\"))\n",
    "\n",
    "def trim(x):\n",
    "    return x[3:]\n",
    "nyseGroup = nyseMap.map(lambda rec: (trim(rec[1]), (rec[0], rec[6]))).groupByKey()\n",
    "def calc(x, top):\n",
    "    tops = []\n",
    "    for d in x:\n",
    "        s, p = d[0], d[1]\n",
    "        tops.append(int(d[1])) \n",
    "    sorted(tops)\n",
    "    topsSet = set()\n",
    "    count = 0\n",
    "    for i in tops:\n",
    "        topsSet.add(i)\n",
    "        count += 1\n",
    "        if(count == top):\n",
    "            break\n",
    "    result = []\n",
    "    for d in x:\n",
    "        s, p = d[0], d[1]\n",
    "        if(int(d[1]) in topsSet):\n",
    "            result.append(d)\n",
    "    return result   \n",
    "nyseResult = nyseGroup.map(lambda rec: (rec[0], calc(rec[1], 3)))\n",
    "for i in nyseResult.take(2): print(i)"
   ]
  },
  {
   "cell_type": "code",
   "execution_count": 61,
   "metadata": {},
   "outputs": [
    {
     "name": "stdout",
     "output_type": "stream",
     "text": [
      "+--------+----+-------+\n",
      "|    date|name| volume|\n",
      "+--------+----+-------+\n",
      "|Jan-2010| MOS|9999800|\n",
      "|Apr-2010| CVX|9999900|\n",
      "|Jun-2012| ALU|9999900|\n",
      "+--------+----+-------+\n",
      "\n"
     ]
    }
   ],
   "source": [
    "# Coumpting using DF's\n",
    "\n",
    "nyseRDDToDF = nyseMap.map(lambda rec: Row(date = trim(rec[1]), name = rec[0], volume = rec[6]))\n",
    "\n",
    "nyseDF = sqlContext.createDataFrame(nyseRDDToDF)\n",
    "nyseTable = nyseDF.registerTempTable(\"nyse\")\n",
    "\n",
    "\n",
    "sqlContext.sql(\"SELECT * \\\n",
    "FROM nyse as n1 \\\n",
    "WHERE \\\n",
    "( \\\n",
    "  n1.volume IN \\\n",
    "  ( \\\n",
    "    SELECT n2.volume \\\n",
    "    FROM nyse as n2 \\\n",
    "    ORDER BY n2.volume DESC \\\n",
    "    LIMIT 3 \\\n",
    "  ) \\\n",
    ")\").show()\n",
    "\n",
    "\n"
   ]
  }
 ],
 "metadata": {
  "kernelspec": {
   "display_name": "Python 3",
   "language": "python",
   "name": "python3"
  },
  "language_info": {
   "codemirror_mode": {
    "name": "ipython",
    "version": 3
   },
   "file_extension": ".py",
   "mimetype": "text/x-python",
   "name": "python",
   "nbconvert_exporter": "python",
   "pygments_lexer": "ipython3",
   "version": "3.5.3"
  }
 },
 "nbformat": 4,
 "nbformat_minor": 2
}
