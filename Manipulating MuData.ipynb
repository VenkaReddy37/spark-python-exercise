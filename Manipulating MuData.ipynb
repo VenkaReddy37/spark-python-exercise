{
 "cells": [
  {
   "cell_type": "code",
   "execution_count": 3,
   "metadata": {},
   "outputs": [
    {
     "name": "stdout",
     "output_type": "stream",
     "text": [
      "\"TransactionID\",\"ProductCategoryID\",\"ProductID\",\"CustomerID\",\"ProductCategory\",\"ProductSubCategory\",\"Size\",\"ModeofOrder\",\"DateofPurchase\",\"NetSales\",\"Quantity\",\"Gender\",\"Zipcode\",\"AgeGroup\"\n",
      "5456,5,140,318,\"Ice Creams\",\"Vanilla\",\"Medium\",\"At the Door\",\"2012-10-31\",14.43,1,\"M\",3456,1\n",
      "3076,5,140,172,\"Ice Creams\",\"Vanilla\",\"Medium\",\"Online Order\",\"2013-04-04\",14.98,1,\"M\",3456,1\n",
      "105101,5,140,6547,\"Ice Creams\",\"Vanilla\",\"Medium\",\"At the Door\",\"2012-08-06\",14.43,1,\"F\",3567,5\n",
      "107800,5,140,6754,\"Ice Creams\",\"Vanilla\",\"Medium\",\"At the Door\",\"2012-07-31\",14.43,1,\"F\",3567,5\n",
      "10660,5,140,609,\"Ice Creams\",\"Vanilla\",\"Medium\",\"At the Door\",\"2013-04-19\",29.96,2,\"M\",3456,1\n",
      "60500,5,140,3614,\"Ice Creams\",\"Vanilla\",\"Medium\",\"At the Door\",\"2012-07-23\",14.43,1,\"M\",3530,3\n",
      "64204,5,140,3848,\"Ice Creams\",\"Vanilla\",\"Medium\",\"Online Order\",\"2013-06-14\",14.98,1,\"M\",3641,4\n",
      "11259,5,140,639,\"Ice Creams\",\"Vanilla\",\"Medium\",\"At the Door\",\"2012-08-02\",14.43,1,\"M\",3456,1\n",
      "64983,5,140,3896,\"Ice Creams\",\"Vanilla\",\"Medium\",\"At the Door\",\"2013-01-14\",14.43,1,\"M\",3641,4\n",
      "16807,5,140,945,\"Ice Creams\",\"Vanilla\",\"Medium\",\"At the Door\",\"2012-09-06\",14.43,1,\"M\",3456,1\n"
     ]
    }
   ],
   "source": [
    "# Extracting the data from the file path\n",
    "data = sc.textFile(\"/Users/pravinkumar/Documents/Spark/testData/MuPhoria_Data.csv\")\n",
    "# Getting the header\n",
    "header = data.first()\n",
    "# Removing the data from the header\n",
    "data = data.filter(lambda rec: rec != header)\n",
    "\n",
    "# Printing sample data\n",
    "print(header)\n",
    "for i in data.take(10): print(i)"
   ]
  },
  {
   "cell_type": "code",
   "execution_count": 10,
   "metadata": {
    "scrolled": true
   },
   "outputs": [
    {
     "name": "stdout",
     "output_type": "stream",
     "text": [
      "('7946', (9, 67.54))\n",
      "('6558', (84, 763.8200000000005))\n",
      "('4986', (14, 102.67999999999999))\n",
      "('2265', (50, 345.6800000000001))\n",
      "('3076', (23, 166.09999999999997))\n"
     ]
    }
   ],
   "source": [
    "#\n",
    "def fun(x):\n",
    "    \n",
    "    #categoryQuantityDict = dict()\n",
    "    #categoryNetSaleDict = dict()\n",
    "    quantitySum = 0\n",
    "    netSalesSum = 0.0\n",
    "    for row in x:\n",
    "        #categoryQuantityDict[int(row[1])].append(int(rwo[3]))\n",
    "        #categoryNetSaleDict[row[1]].append(int(rwo[2]))\n",
    "        quantitySum += int(row[3])\n",
    "        netSalesSum += float(row[2])\n",
    "    return (quantitySum, netSalesSum)\n",
    "    \n",
    "\n",
    "dataTrimed = data.map(lambda rec: rec.split(\",\")).map(lambda rec: (rec[3], (rec[1], rec[2], rec[9], rec[10])))\n",
    "dtGrouped = dataTrimed.groupByKey().mapValues(fun)\n",
    "\n",
    "for i in dtGrouped.take(5):print(i)"
   ]
  },
  {
   "cell_type": "code",
   "execution_count": null,
   "metadata": {
    "collapsed": true
   },
   "outputs": [],
   "source": []
  },
  {
   "cell_type": "code",
   "execution_count": 60,
   "metadata": {},
   "outputs": [
    {
     "name": "stdout",
     "output_type": "stream",
     "text": [
      "Row(TransactionID=5456, ProductCategoryID=5, ProductID=140, CustomerID=318, ProductCategory='Ice Creams', ProductSubCategory='Vanilla', Size='Medium', ModeofOrder='At the Door', DateofPurchase=datetime.datetime(2012, 10, 31, 0, 0), NetSales=14.43, Quantity=1, Gender='M', Zipcode=3456, AgeGroup=1)\n",
      "Row(TransactionID=3076, ProductCategoryID=5, ProductID=140, CustomerID=172, ProductCategory='Ice Creams', ProductSubCategory='Vanilla', Size='Medium', ModeofOrder='Online Order', DateofPurchase=datetime.datetime(2013, 4, 4, 0, 0), NetSales=14.98, Quantity=1, Gender='M', Zipcode=3456, AgeGroup=1)\n",
      "Row(TransactionID=105101, ProductCategoryID=5, ProductID=140, CustomerID=6547, ProductCategory='Ice Creams', ProductSubCategory='Vanilla', Size='Medium', ModeofOrder='At the Door', DateofPurchase=datetime.datetime(2012, 8, 6, 0, 0), NetSales=14.43, Quantity=1, Gender='F', Zipcode=3567, AgeGroup=5)\n"
     ]
    }
   ],
   "source": [
    "df = sqlContext.read.format(\"com.databricks.spark.csv\").option(\"header\", \"true\").option(\"inferschema\", \"true\")\\\n",
    ".option(\"mode\", \"DROPMALFORMED\").load(\"/Users/pravinkumar/Documents/Spark/testData/MuPhoria_Data.csv\")\n",
    "\n",
    "df.registerTempTable(\"muData\")\n",
    "\n",
    "query = sqlContext.sql(\"select * from muData\")\n",
    "\n",
    "for i in query.take(3): print(i)\n"
   ]
  }
 ],
 "metadata": {
  "kernelspec": {
   "display_name": "Python 3",
   "language": "python",
   "name": "python3"
  },
  "language_info": {
   "codemirror_mode": {
    "name": "ipython",
    "version": 3
   },
   "file_extension": ".py",
   "mimetype": "text/x-python",
   "name": "python",
   "nbconvert_exporter": "python",
   "pygments_lexer": "ipython3",
   "version": "3.5.3"
  }
 },
 "nbformat": 4,
 "nbformat_minor": 2
}
