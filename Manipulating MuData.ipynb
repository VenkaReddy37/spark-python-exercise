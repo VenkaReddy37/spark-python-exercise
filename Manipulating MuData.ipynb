{
 "cells": [
  {
   "cell_type": "code",
   "execution_count": 2,
   "metadata": {},
   "outputs": [
    {
     "ename": "NameError",
     "evalue": "name 'sc' is not defined",
     "output_type": "error",
     "traceback": [
      "\u001b[0;31m---------------------------------------------------------------------------\u001b[0m",
      "\u001b[0;31mNameError\u001b[0m                                 Traceback (most recent call last)",
      "\u001b[0;32m<ipython-input-2-2cada5f205d0>\u001b[0m in \u001b[0;36m<module>\u001b[0;34m()\u001b[0m\n\u001b[1;32m      1\u001b[0m \u001b[0;31m# Extracting the data from the file path\u001b[0m\u001b[0;34m\u001b[0m\u001b[0;34m\u001b[0m\u001b[0m\n\u001b[0;32m----> 2\u001b[0;31m \u001b[0mdata\u001b[0m \u001b[0;34m=\u001b[0m \u001b[0msc\u001b[0m\u001b[0;34m.\u001b[0m\u001b[0mtextFile\u001b[0m\u001b[0;34m(\u001b[0m\u001b[0;34m\"/Users/pravinkumar/Documents/Spark/testData/MuPhoria_Data.csv\"\u001b[0m\u001b[0;34m)\u001b[0m\u001b[0;34m\u001b[0m\u001b[0m\n\u001b[0m\u001b[1;32m      3\u001b[0m \u001b[0;31m# Getting the header\u001b[0m\u001b[0;34m\u001b[0m\u001b[0;34m\u001b[0m\u001b[0m\n\u001b[1;32m      4\u001b[0m \u001b[0mheader\u001b[0m \u001b[0;34m=\u001b[0m \u001b[0mdata\u001b[0m\u001b[0;34m.\u001b[0m\u001b[0mfirst\u001b[0m\u001b[0;34m(\u001b[0m\u001b[0;34m)\u001b[0m\u001b[0;34m\u001b[0m\u001b[0m\n\u001b[1;32m      5\u001b[0m \u001b[0;31m# Removing the data from the header\u001b[0m\u001b[0;34m\u001b[0m\u001b[0;34m\u001b[0m\u001b[0m\n",
      "\u001b[0;31mNameError\u001b[0m: name 'sc' is not defined"
     ]
    }
   ],
   "source": [
    "# Extracting the data from the file path\n",
    "data = sc.textFile(\"/Users/pravinkumar/Documents/Spark/testData/MuPhoria_Data.csv\")\n",
    "# Getting the header\n",
    "header = data.first()\n",
    "# Removing the data from the header\n",
    "data = data.filter(lambda rec: rec != header)\n",
    "\n",
    "# Printing sample data\n",
    "print(header)\n",
    "for i in data.take(10): print(i)"
   ]
  },
  {
   "cell_type": "code",
   "execution_count": 10,
   "metadata": {
    "scrolled": true
   },
   "outputs": [
    {
     "name": "stdout",
     "output_type": "stream",
     "text": [
      "('7946', (9, 67.54))\n",
      "('6558', (84, 763.8200000000005))\n",
      "('4986', (14, 102.67999999999999))\n",
      "('2265', (50, 345.6800000000001))\n",
      "('3076', (23, 166.09999999999997))\n"
     ]
    }
   ],
   "source": [
    "#\n",
    "def fun(x):\n",
    "    \n",
    "    #categoryQuantityDict = dict()\n",
    "    #categoryNetSaleDict = dict()\n",
    "    quantitySum = 0\n",
    "    netSalesSum = 0.0\n",
    "    for row in x:\n",
    "        #categoryQuantityDict[int(row[1])].append(int(rwo[3]))\n",
    "        #categoryNetSaleDict[row[1]].append(int(rwo[2]))\n",
    "        quantitySum += int(row[3])\n",
    "        netSalesSum += float(row[2])\n",
    "    return (quantitySum, netSalesSum)\n",
    "    \n",
    "\n",
    "dataTrimed = data.map(lambda rec: rec.split(\",\")).map(lambda rec: (rec[3], (rec[1], rec[2], rec[9], rec[10])))\n",
    "dtGrouped = dataTrimed.groupByKey().mapValues(fun)\n",
    "\n",
    "for i in dtGrouped.take(5):print(i)"
   ]
  },
  {
   "cell_type": "code",
   "execution_count": null,
   "metadata": {
    "collapsed": true
   },
   "outputs": [],
   "source": []
  },
  {
   "cell_type": "code",
   "execution_count": 60,
   "metadata": {},
   "outputs": [
    {
     "name": "stdout",
     "output_type": "stream",
     "text": [
      "Row(TransactionID=5456, ProductCategoryID=5, ProductID=140, CustomerID=318, ProductCategory='Ice Creams', ProductSubCategory='Vanilla', Size='Medium', ModeofOrder='At the Door', DateofPurchase=datetime.datetime(2012, 10, 31, 0, 0), NetSales=14.43, Quantity=1, Gender='M', Zipcode=3456, AgeGroup=1)\n",
      "Row(TransactionID=3076, ProductCategoryID=5, ProductID=140, CustomerID=172, ProductCategory='Ice Creams', ProductSubCategory='Vanilla', Size='Medium', ModeofOrder='Online Order', DateofPurchase=datetime.datetime(2013, 4, 4, 0, 0), NetSales=14.98, Quantity=1, Gender='M', Zipcode=3456, AgeGroup=1)\n",
      "Row(TransactionID=105101, ProductCategoryID=5, ProductID=140, CustomerID=6547, ProductCategory='Ice Creams', ProductSubCategory='Vanilla', Size='Medium', ModeofOrder='At the Door', DateofPurchase=datetime.datetime(2012, 8, 6, 0, 0), NetSales=14.43, Quantity=1, Gender='F', Zipcode=3567, AgeGroup=5)\n"
     ]
    }
   ],
   "source": [
    "df = sqlContext.read.format(\"com.databricks.spark.csv\").option(\"header\", \"true\").option(\"inferschema\", \"true\")\\\n",
    ".option(\"mode\", \"DROPMALFORMED\").load(\"/Users/pravinkumar/Documents/Spark/testData/MuPhoria_Data.csv\")\n",
    "\n",
    "df.registerTempTable(\"muData\")\n",
    "\n",
    "query = sqlContext.sql(\"select * from muData\")\n",
    "\n",
    "for i in query.rdd.map(list).take(3): print(i)\n"
   ]
  }
 ],
 "metadata": {
  "kernelspec": {
   "display_name": "Python 3",
   "language": "python",
   "name": "python3"
  },
  "language_info": {
   "codemirror_mode": {
    "name": "ipython",
    "version": 3
   },
   "file_extension": ".py",
   "mimetype": "text/x-python",
   "name": "python",
   "nbconvert_exporter": "python",
   "pygments_lexer": "ipython3",
   "version": "3.5.3"
  }
 },
 "nbformat": 4,
 "nbformat_minor": 2
}
